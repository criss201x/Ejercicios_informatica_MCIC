{
 "cells": [
  {
   "cell_type": "markdown",
   "metadata": {},
   "source": [
    "# Ejercicio 1"
   ]
  },
  {
   "cell_type": "code",
   "execution_count": 42,
   "metadata": {},
   "outputs": [],
   "source": [
    "import time\n",
    "import random\n"
   ]
  },
  {
   "cell_type": "code",
   "execution_count": 21,
   "metadata": {},
   "outputs": [],
   "source": [
    "def solicitar_numero_complejo(mensaje):\n",
    "    while True:\n",
    "        try:\n",
    "            numero = complex(input(mensaje))\n",
    "            return numero\n",
    "        except ValueError:\n",
    "            print(\"Entrada no válida. Ingrese un número complejo en el formato a+bj.\")\n",
    "\n",
    "def calcular(num1, num2, operacion):\n",
    "    try:\n",
    "        if operacion == '+':\n",
    "            return num1 + num2\n",
    "        elif operacion == '-':\n",
    "            return num1 - num2\n",
    "        elif operacion == '*':\n",
    "            return num1 * num2\n",
    "        elif operacion == '/':\n",
    "            return num1 / num2 if num2 != 0 else \"Error: División por cero\"\n",
    "        else:\n",
    "            return \"Operación no válida\"\n",
    "    except Exception as e:\n",
    "        return f\"Error: {e}\""
   ]
  },
  {
   "cell_type": "code",
   "execution_count": null,
   "metadata": {},
   "outputs": [],
   "source": [
    "print(\"Calculadora de Números Complejos\")\n",
    "num1 = solicitar_numero_complejo(\"Ingrese el primer número complejo (ejemplo: 1+2j): \")\n",
    "print(f\"Número 1: {num1}\")\n",
    "num2 = solicitar_numero_complejo(\"Ingrese el segundo número complejo (ejemplo: 3-4j): \")\n",
    "print(f\"Número 2: {num2}\")\n",
    "\n",
    "time.sleep(0.5)\n",
    "\n",
    "while True:\n",
    "    operacion = input(\"Seleccione la operación (+, -, *, /): \")\n",
    "    if operacion in ['+', '-', '*', '/']:\n",
    "        break\n",
    "    print(\"Operación no válida. Intente de nuevo.\")\n",
    "\n",
    "print(f\"Operación: {operacion}\")\n",
    "    \n",
    "resultado = calcular(num1, num2, operacion)\n",
    "print(f\"Resultado: {resultado}\")"
   ]
  },
  {
   "cell_type": "markdown",
   "metadata": {},
   "source": [
    "# Ejercicio 2"
   ]
  },
  {
   "cell_type": "code",
   "execution_count": 59,
   "metadata": {},
   "outputs": [],
   "source": [
    "\n",
    "def obtener_caracteres():\n",
    "    mayusculas = \"ABCDEFGHIJKLMNOPQRSTUVWXYZ\"\n",
    "    minusculas = \"abcdefghijklmnopqrstuvwxyz\"\n",
    "    numeros = \"0123456789\"\n",
    "    especiales = \"!@#$%^&*()_-+=<>?/\"\n",
    "    return mayusculas, minusculas, numeros, especiales\n",
    "\n",
    "def generar_numero_aleatorio(limite):\n",
    "    return random.randint(0, limite - 1)\n",
    "\n",
    "def generar_contraseña(longitud):\n",
    "    mayusculas, minusculas, numeros, especiales = obtener_caracteres()\n",
    "    \n",
    "    # Garantizar al menos un carácter de cada tipo\n",
    "    contrasena = [\n",
    "        random.choice(mayusculas),\n",
    "        random.choice(minusculas),\n",
    "        random.choice(numeros),\n",
    "        random.choice(especiales)\n",
    "    ]\n",
    "    \n",
    "    # Llenar el resto de la contraseña aleatoriamente\n",
    "    caracteres_totales = mayusculas + minusculas + numeros + especiales\n",
    "    for _ in range(longitud - 4):\n",
    "        contrasena.append(random.choice(caracteres_totales))\n",
    "    \n",
    "    # Mezclar los caracteres para evitar patrones\n",
    "    random.shuffle(contrasena)\n",
    "    \n",
    "    return \"\".join(contrasena)"
   ]
  },
  {
   "cell_type": "code",
   "execution_count": 60,
   "metadata": {},
   "outputs": [
    {
     "name": "stdout",
     "output_type": "stream",
     "text": [
      "Contraseña generada: +2_sW\n"
     ]
    }
   ],
   "source": [
    "while True:\n",
    "    try:\n",
    "        longitud = int(input(\"Ingrese la longitud de la contraseña: \"))\n",
    "        if longitud < 4:\n",
    "            print(\"La longitud debe ser al menos 4 para mayor seguridad.\")\n",
    "            continue\n",
    "        \n",
    "        contrasena = generar_contraseña(longitud)\n",
    "        print(f\"Contraseña generada: {contrasena}\")\n",
    "\n",
    "        time.sleep(0.5)\n",
    "        \n",
    "        repetir = input(\"¿Desea generar otra contraseña? (s/n): \").strip().lower()\n",
    "        if repetir != 's':\n",
    "            break\n",
    "    except ValueError:\n",
    "        print(\"Por favor, ingrese un número válido.\")"
   ]
  },
  {
   "cell_type": "markdown",
   "metadata": {},
   "source": [
    "# Ejercicio 3"
   ]
  },
  {
   "cell_type": "code",
   "execution_count": 45,
   "metadata": {},
   "outputs": [],
   "source": [
    "def convertir_longitud(valor, unidad):\n",
    "    if unidad == 'm':  # Metros a pies\n",
    "        return valor * 3.28084\n",
    "    elif unidad == 'ft':  # Pies a metros\n",
    "        return valor / 3.28084\n",
    "    else:\n",
    "        return None\n",
    "\n",
    "def convertir_temperatura(valor, unidad):\n",
    "    if unidad == 'c':  # Celsius a Fahrenheit\n",
    "        return (valor * 9/5) + 32\n",
    "    elif unidad == 'f':  # Fahrenheit a Celsius\n",
    "        return (valor - 32) * 5/9\n",
    "    else:\n",
    "        return None\n",
    "\n",
    "def convertir_masa(valor, unidad):\n",
    "    if unidad == 'kg':  # Kilogramos a libras\n",
    "        return valor * 2.20462\n",
    "    elif unidad == 'lb':  # Libras a kilogramos\n",
    "        return valor / 2.20462\n",
    "    else:\n",
    "        return None"
   ]
  },
  {
   "cell_type": "code",
   "execution_count": null,
   "metadata": {},
   "outputs": [],
   "source": [
    "while True:\n",
    "    time.sleep(0.5)\n",
    "\n",
    "    print(\"Seleccione el tipo de conversión:\")\n",
    "    print(\"1. Longitud (metros <-> pies)\")\n",
    "    print(\"2. Temperatura (Celsius <-> Fahrenheit)\")\n",
    "    print(\"3. Masa (kilogramos <-> libras)\")\n",
    "    opcion = input(\"Ingrese el número de la opción deseada: \")\n",
    "    \n",
    "    if opcion not in ['1', '2', '3']:\n",
    "        print(\"Opción no válida. Intente de nuevo.\")\n",
    "        continue\n",
    "    \n",
    "    time.sleep(0.5)\n",
    "    \n",
    "    try:\n",
    "        valor = float(input(\"Ingrese el valor a convertir: \"))\n",
    "        \n",
    "        if opcion == '1':\n",
    "            unidad = input(\"Ingrese la unidad (m para metros, ft para pies): \").strip().lower()\n",
    "            resultado = convertir_longitud(valor, unidad)\n",
    "            unidad_destino = 'pies' if unidad == 'm' else 'metros'\n",
    "        elif opcion == '2':\n",
    "            unidad = input(\"Ingrese la unidad (c para Celsius, f para Fahrenheit): \").strip().lower()\n",
    "            resultado = convertir_temperatura(valor, unidad)\n",
    "            unidad_destino = 'Fahrenheit' if unidad == 'c' else 'Celsius'\n",
    "        elif opcion == '3':\n",
    "            unidad = input(\"Ingrese la unidad (kg para kilogramos, lb para libras): \").strip().lower()\n",
    "            resultado = convertir_masa(valor, unidad)\n",
    "            unidad_destino = 'libras' if unidad == 'kg' else 'kilogramos'\n",
    "    \n",
    "        time.sleep(0.5)\n",
    "\n",
    "        if resultado is not None:\n",
    "            print(f\"Resultado: {valor} {unidad} = {resultado:.2f} {unidad_destino}\")\n",
    "        else:\n",
    "            print(\"Unidad no válida. Intente de nuevo.\")\n",
    "\n",
    "        time.sleep(0.5)\n",
    "                \n",
    "        repetir = input(\"¿Desea realizar otra conversión? (s/n): \").strip().lower()\n",
    "        if repetir != 's':\n",
    "            break\n",
    "    except ValueError:\n",
    "        print(\"Por favor, ingrese un número válido.\")"
   ]
  }
 ],
 "metadata": {
  "kernelspec": {
   "display_name": "3.10.2",
   "language": "python",
   "name": "python3"
  },
  "language_info": {
   "codemirror_mode": {
    "name": "ipython",
    "version": 3
   },
   "file_extension": ".py",
   "mimetype": "text/x-python",
   "name": "python",
   "nbconvert_exporter": "python",
   "pygments_lexer": "ipython3",
   "version": "3.10.2"
  }
 },
 "nbformat": 4,
 "nbformat_minor": 2
}
