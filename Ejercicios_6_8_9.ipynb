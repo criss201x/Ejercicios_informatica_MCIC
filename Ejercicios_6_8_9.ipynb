{
 "cells": [
  {
   "cell_type": "markdown",
   "metadata": {},
   "source": [
    "# Ejercicio 6\n",
    "    Gestion de inventario simple"
   ]
  },
  {
   "cell_type": "markdown",
   "metadata": {},
   "source": [
    "MENU ()\n",
    "\n",
    "Inicio\n",
    "    Mientras Verdadero Hacer\n",
    "        Mostrar menú de opciones\n",
    "        Leer opción\n",
    "\n",
    "        Si opción es \"5\" Entonces\n",
    "            Salir\n",
    "\n",
    "        Si opción es válida Entonces\n",
    "            Llamar función correspondiente\n",
    "        Sino\n",
    "            Mostrar \"Opción inválida\"\n",
    "        Fin Si\n",
    "    Fin Mientras\n",
    "Fin\n",
    "\n",
    "AGREGAR_PRODUCTO()\n",
    "Inicio\n",
    "    Leer nombre del producto\n",
    "    Intentar\n",
    "        Leer cantidad como número\n",
    "        Leer precio como número\n",
    "        Agregar producto a la lista\n",
    "        Mostrar \"Producto agregado correctamente\"\n",
    "    Capturar error\n",
    "        Mostrar \"Error: cantidad y precio deben ser numéricos\"\n",
    "Fin\n",
    "\n",
    "ELIMINAR_PRODUCTO()\n",
    "Inicio\n",
    "    Leer nombre del producto a eliminar\n",
    "    Si el producto no existe Entonces\n",
    "        Mostrar \"Error: No existe el producto\"\n",
    "        Salir\n",
    "\n",
    "    Eliminar producto de la lista\n",
    "    Mostrar \"Producto eliminado correctamente\"\n",
    "Fin\n",
    "VER_PRODUCTOS()\n",
    "Inicio  \n",
    "    Si la lista de productos está vacía Entonces  \n",
    "        Mostrar \"No hay productos en la lista\"  \n",
    "        Salir  \n",
    "\n",
    "    Mostrar \"Lista de productos\"  \n",
    "    Para cada producto en la lista Hacer  \n",
    "        Mostrar nombre, cantidad y precio  \n",
    "Fin\n",
    "ACTUALIZAR_PRODUCTOS()\n",
    "Inicio  \n",
    "    Leer nombre del producto a actualizar  \n",
    "\n",
    "    Si el producto no existe Entonces  \n",
    "        Mostrar \"Error: No existe el producto\"  \n",
    "        Salir  \n",
    "\n",
    "    Leer nueva cantidad (opcional)  \n",
    "    Leer nuevo precio (opcional)  \n",
    "\n",
    "    Intentar  \n",
    "        Si nueva cantidad no está vacía Entonces  \n",
    "            Actualizar cantidad  \n",
    "\n",
    "        Si nuevo precio no está vacío Entonces  \n",
    "            Actualizar precio  \n",
    "\n",
    "        Mostrar \"Producto actualizado correctamente\"  \n",
    "    Capturar error  \n",
    "        Mostrar \"Error: cantidad y precio deben ser numéricos\"  \n",
    "Fin  \n"
   ]
  },
  {
   "cell_type": "code",
   "execution_count": null,
   "metadata": {},
   "outputs": [
    {
     "name": "stdout",
     "output_type": "stream",
     "text": [
      "MENÚ DE PRODUCTOS\n",
      "1 Agregar producto\n",
      "2 Ver productos\n",
      "3 Eliminar producto\n",
      "4 Actualizar producto\n",
      "5 Salir\n"
     ]
    },
    {
     "name": "stdout",
     "output_type": "stream",
     "text": [
      "Seleccione una opción:  1\n",
      "Ingrese el nombre del producto:  Arroz\n",
      "Ingrese la cantidad:  2\n",
      "Ingrese el precio:  3\n"
     ]
    },
    {
     "name": "stdout",
     "output_type": "stream",
     "text": [
      "Producto 'Arroz' agregado correctamente.\n",
      "\n",
      "MENÚ DE PRODUCTOS\n",
      "1 Agregar producto\n",
      "2 Ver productos\n",
      "3 Eliminar producto\n",
      "4 Actualizar producto\n",
      "5 Salir\n"
     ]
    },
    {
     "name": "stdout",
     "output_type": "stream",
     "text": [
      "Seleccione una opción:  2\n"
     ]
    },
    {
     "name": "stdout",
     "output_type": "stream",
     "text": [
      "Lista de productos:\n",
      "Arroz - Cantidad: 2.0, Precio: 3.0\n",
      "\n",
      "MENÚ DE PRODUCTOS\n",
      "1 Agregar producto\n",
      "2 Ver productos\n",
      "3 Eliminar producto\n",
      "4 Actualizar producto\n",
      "5 Salir\n"
     ]
    },
    {
     "name": "stdout",
     "output_type": "stream",
     "text": [
      "Seleccione una opción:  1\n",
      "Ingrese el nombre del producto:  Maiz\n",
      "Ingrese la cantidad:  23\n",
      "Ingrese el precio:  32\n"
     ]
    },
    {
     "name": "stdout",
     "output_type": "stream",
     "text": [
      "Producto 'Maiz' agregado correctamente.\n",
      "\n",
      "MENÚ DE PRODUCTOS\n",
      "1 Agregar producto\n",
      "2 Ver productos\n",
      "3 Eliminar producto\n",
      "4 Actualizar producto\n",
      "5 Salir\n"
     ]
    },
    {
     "name": "stdout",
     "output_type": "stream",
     "text": [
      "Seleccione una opción:  2\n"
     ]
    },
    {
     "name": "stdout",
     "output_type": "stream",
     "text": [
      "Lista de productos:\n",
      "Arroz - Cantidad: 2.0, Precio: 3.0\n",
      "Maiz - Cantidad: 23.0, Precio: 32.0\n",
      "\n",
      "MENÚ DE PRODUCTOS\n",
      "1 Agregar producto\n",
      "2 Ver productos\n",
      "3 Eliminar producto\n",
      "4 Actualizar producto\n",
      "5 Salir\n"
     ]
    },
    {
     "name": "stdout",
     "output_type": "stream",
     "text": [
      "Seleccione una opción:  4\n",
      "Ingrese el nombre del producto a actualizar:  Maiz\n",
      "Ingrese la nueva cantidad (deje vacío para no cambiar):  \n",
      "Ingrese el nuevo precio (deje vacío para no cambiar):  \n"
     ]
    },
    {
     "name": "stdout",
     "output_type": "stream",
     "text": [
      "Producto 'Maiz' actualizado correctamente.\n",
      "\n",
      "MENÚ DE PRODUCTOS\n",
      "1 Agregar producto\n",
      "2 Ver productos\n",
      "3 Eliminar producto\n",
      "4 Actualizar producto\n",
      "5 Salir\n"
     ]
    },
    {
     "name": "stdout",
     "output_type": "stream",
     "text": [
      "Seleccione una opción:  2\n"
     ]
    },
    {
     "name": "stdout",
     "output_type": "stream",
     "text": [
      "Lista de productos:\n",
      "Arroz - Cantidad: 2.0, Precio: 3.0\n",
      "Maiz - Cantidad: 23.0, Precio: 32.0\n",
      "\n",
      "MENÚ DE PRODUCTOS\n",
      "1 Agregar producto\n",
      "2 Ver productos\n",
      "3 Eliminar producto\n",
      "4 Actualizar producto\n",
      "5 Salir\n"
     ]
    },
    {
     "name": "stdout",
     "output_type": "stream",
     "text": [
      "Seleccione una opción:  Arroz\n"
     ]
    },
    {
     "name": "stdout",
     "output_type": "stream",
     "text": [
      "Opción inválida. Intente nuevamente.\n",
      "\n",
      "MENÚ DE PRODUCTOS\n",
      "1 Agregar producto\n",
      "2 Ver productos\n",
      "3 Eliminar producto\n",
      "4 Actualizar producto\n",
      "5 Salir\n"
     ]
    },
    {
     "name": "stdout",
     "output_type": "stream",
     "text": [
      "Seleccione una opción:  4\n",
      "Ingrese el nombre del producto a actualizar:  Arroz\n",
      "Ingrese la nueva cantidad (deje vacío para no cambiar):  234\n",
      "Ingrese el nuevo precio (deje vacío para no cambiar):  42\n"
     ]
    },
    {
     "name": "stdout",
     "output_type": "stream",
     "text": [
      "Producto 'Arroz' actualizado correctamente.\n",
      "\n",
      "MENÚ DE PRODUCTOS\n",
      "1 Agregar producto\n",
      "2 Ver productos\n",
      "3 Eliminar producto\n",
      "4 Actualizar producto\n",
      "5 Salir\n"
     ]
    },
    {
     "name": "stdout",
     "output_type": "stream",
     "text": [
      "Seleccione una opción:  2\n"
     ]
    },
    {
     "name": "stdout",
     "output_type": "stream",
     "text": [
      "Lista de productos:\n",
      "Arroz - Cantidad: 234.0, Precio: 42.0\n",
      "Maiz - Cantidad: 23.0, Precio: 32.0\n",
      "\n",
      "MENÚ DE PRODUCTOS\n",
      "1 Agregar producto\n",
      "2 Ver productos\n",
      "3 Eliminar producto\n",
      "4 Actualizar producto\n",
      "5 Salir\n"
     ]
    },
    {
     "name": "stdout",
     "output_type": "stream",
     "text": [
      "Seleccione una opción:  3\n",
      "Ingrese el nombre del producto a eliminar:  Maiz\n"
     ]
    },
    {
     "name": "stdout",
     "output_type": "stream",
     "text": [
      "Producto 'Maiz' eliminado correctamente.\n",
      "\n",
      "MENÚ DE PRODUCTOS\n",
      "1 Agregar producto\n",
      "2 Ver productos\n",
      "3 Eliminar producto\n",
      "4 Actualizar producto\n",
      "5 Salir\n"
     ]
    },
    {
     "name": "stdout",
     "output_type": "stream",
     "text": [
      "Seleccione una opción:  2\n"
     ]
    },
    {
     "name": "stdout",
     "output_type": "stream",
     "text": [
      "Lista de productos:\n",
      "Arroz - Cantidad: 234.0, Precio: 42.0\n",
      "\n",
      "MENÚ DE PRODUCTOS\n",
      "1 Agregar producto\n",
      "2 Ver productos\n",
      "3 Eliminar producto\n",
      "4 Actualizar producto\n",
      "5 Salir\n"
     ]
    }
   ],
   "source": [
    "productos = []\n",
    "\n",
    "def agregar_producto():\n",
    "    nombre = input(\"Ingrese el nombre del producto: \")\n",
    "    try:\n",
    "        cantidad = float(input(\"Ingrese la cantidad: \"))\n",
    "        precio = float(input(\"Ingrese el precio: \"))\n",
    "        productos.append({\"nombre\": nombre, \"cantidad\": cantidad, \"precio\": precio})\n",
    "        print(f\"Producto '{nombre}' agregado correctamente.\\n\")\n",
    "    except ValueError:\n",
    "        print(\"Error: cantidad y precio deben ser valores numéricos.\\n\")\n",
    "\n",
    "def ver_productos():\n",
    "    if not productos:\n",
    "        print(\"No hay productos en la lista.\\n\")\n",
    "    else:\n",
    "        print(\"Lista de productos:\")\n",
    "        for p in productos:\n",
    "            print(f\"{p['nombre']} - Cantidad: {p['cantidad']}, Precio: {p['precio']}\")\n",
    "        print()\n",
    "\n",
    "def eliminar_producto():\n",
    "    nombre = input(\"Ingrese el nombre del producto a eliminar: \")\n",
    "    global productos\n",
    "    if not any(p[\"nombre\"] == nombre for p in productos):\n",
    "        print(f\"Error: No existe el producto '{nombre}'.\\n\")\n",
    "        return\n",
    "    productos = [p for p in productos if p[\"nombre\"] != nombre]\n",
    "    print(f\"Producto '{nombre}' eliminado correctamente.\\n\")\n",
    "\n",
    "def actualizar_producto():\n",
    "    nombre = input(\"Ingrese el nombre del producto a actualizar: \")\n",
    "    for p in productos:\n",
    "        if p[\"nombre\"] == nombre:\n",
    "            try:\n",
    "                cantidad = input(\"Ingrese la nueva cantidad (deje vacío para no cambiar): \")\n",
    "                precio = input(\"Ingrese el nuevo precio (deje vacío para no cambiar): \")\n",
    "                \n",
    "                if cantidad:\n",
    "                    p[\"cantidad\"] = float(cantidad)\n",
    "                if precio:\n",
    "                    p[\"precio\"] = float(precio)\n",
    "\n",
    "                print(f\"Producto '{nombre}' actualizado correctamente.\\n\")\n",
    "                return\n",
    "            except ValueError:\n",
    "                print(\"Error: cantidad y precio deben ser valores numéricos.\\n\")\n",
    "                return\n",
    "    print(f\"Error: No existe el producto '{nombre}'.\\n\")\n",
    "\n",
    "def menu():\n",
    "    while True:\n",
    "        print(\"MENÚ DE PRODUCTOS\")\n",
    "        print(\"1 Agregar producto\")\n",
    "        print(\"2 Ver productos\")\n",
    "        print(\"3 Eliminar producto\")\n",
    "        print(\"4 Actualizar producto\")\n",
    "        print(\"5 Salir\")\n",
    "        \n",
    "        opcion = input(\"Seleccione una opción: \")\n",
    "        \n",
    "        if opcion == \"1\":\n",
    "            agregar_producto()\n",
    "        elif opcion == \"2\":\n",
    "            ver_productos()\n",
    "        elif opcion == \"3\":\n",
    "            eliminar_producto()\n",
    "        elif opcion == \"4\":\n",
    "            actualizar_producto()\n",
    "        elif opcion == \"5\":\n",
    "            print(\"Saliendo del menú...\")\n",
    "            break\n",
    "        else:\n",
    "            print(\"Opción inválida. Intente nuevamente.\\n\")\n",
    "\n",
    "# Ejecutar el menú en Jupyter\n",
    "menu()\n"
   ]
  },
  {
   "cell_type": "markdown",
   "metadata": {},
   "source": [
    "# Ejercicio 8\n",
    "    Generador de tablas de multiplicar"
   ]
  },
  {
   "cell_type": "markdown",
   "metadata": {},
   "source": [
    "TABLAS_MULTIPLICAR()\n",
    "Inicio  \n",
    "    Intentar  \n",
    "        Leer número  \n",
    "        Mostrar \"Tabla del número\"  \n",
    "        \n",
    "        Para i desde 1 hasta 10 Hacer  \n",
    "            Mostrar \"número x i = resultado\"  \n",
    "    Capturar error  \n",
    "        Mostrar \"Error: debe ser un número\"  \n",
    "Fin  \n"
   ]
  },
  {
   "cell_type": "code",
   "execution_count": 9,
   "metadata": {},
   "outputs": [
    {
     "name": "stdout",
     "output_type": "stream",
     "text": [
      "Ingrese la numero:  8\n"
     ]
    },
    {
     "name": "stdout",
     "output_type": "stream",
     "text": [
      "Tabla del 8\n",
      "8 x 1 = 8\n",
      "8 x 2 = 16\n",
      "8 x 3 = 24\n",
      "8 x 4 = 32\n",
      "8 x 5 = 40\n",
      "8 x 6 = 48\n",
      "8 x 7 = 56\n",
      "8 x 8 = 64\n",
      "8 x 9 = 72\n",
      "8 x 10 = 80\n"
     ]
    }
   ],
   "source": [
    "def tablas_multiplicar():\n",
    "    try:\n",
    "        numero = int(input(\"Ingrese la numero: \"))\n",
    "        print(f\"Tabla del {numero}\")\n",
    "        for i in range(1, 11):\n",
    "             print(f\"{numero} x {i} = {numero * i}\")\n",
    "    except ValueError:\n",
    "        print(\"Error: deben ser valores numéricos.\\n\")\n",
    "   \n",
    "\n",
    "tablas_multiplicar()"
   ]
  },
  {
   "cell_type": "markdown",
   "metadata": {},
   "source": [
    "# Ejercicio 9\n",
    "    Verificador de palindromo"
   ]
  },
  {
   "cell_type": "markdown",
   "metadata": {},
   "source": [
    "VERIRICADOR_PALINDROMO()\n",
    "Inicio  \n",
    "    Leer palabra  \n",
    "    Convertir palabra a mayúsculas y quitar espacios  \n",
    "    Remover acentos de la palabra  \n",
    "\n",
    "    Si palabra es igual a su reverso Entonces  \n",
    "        Mostrar \"La palabra es palíndromo\"  \n",
    "    Sino  \n",
    "        Mostrar \"La palabra NO es palíndromo\"  \n",
    "Fin  "
   ]
  },
  {
   "cell_type": "code",
   "execution_count": null,
   "metadata": {},
   "outputs": [
    {
     "name": "stdout",
     "output_type": "stream",
     "text": [
      "Ingrese la palabra:  oló\n"
     ]
    },
    {
     "name": "stdout",
     "output_type": "stream",
     "text": [
      "La palabra OLÓ - ÓLO NO es palíndromo\n"
     ]
    }
   ],
   "source": [
    "from unidecode import unidecode\n",
    "def verificador_palindromo():\n",
    "    palabra = input(\"Ingrese la palabra: \")\n",
    "    palabra = palabra.upper().replace(\" \",\"\")\n",
    "    palabra = unidecode(palabra)\n",
    "    if palabra == palabra[::-1]:\n",
    "        print(f\"La palabra {palabra} es palíndromo\")\n",
    "    else:\n",
    "        print(f\"La palabra {palabra} - {palabra[::-1]} NO es palíndromo\")\n",
    "\n",
    "verificador_palindromo()"
   ]
  },
  {
   "cell_type": "code",
   "execution_count": null,
   "metadata": {},
   "outputs": [],
   "source": []
  }
 ],
 "metadata": {
  "kernelspec": {
   "display_name": "Python 3 (ipykernel)",
   "language": "python",
   "name": "python3"
  },
  "language_info": {
   "codemirror_mode": {
    "name": "ipython",
    "version": 3
   },
   "file_extension": ".py",
   "mimetype": "text/x-python",
   "name": "python",
   "nbconvert_exporter": "python",
   "pygments_lexer": "ipython3",
   "version": "3.8.20"
  }
 },
 "nbformat": 4,
 "nbformat_minor": 4
}
