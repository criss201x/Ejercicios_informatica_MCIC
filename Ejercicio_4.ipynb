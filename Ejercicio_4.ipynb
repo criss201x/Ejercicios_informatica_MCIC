{
 "cells": [
  {
   "cell_type": "code",
   "execution_count": 49,
   "id": "97cd6955-9203-45dc-9509-c9a5b183e0fb",
   "metadata": {},
   "outputs": [],
   "source": [
    "import random\n",
    "import re"
   ]
  },
  {
   "cell_type": "markdown",
   "id": "db7b0555-d84d-4257-a0dc-38d240781678",
   "metadata": {},
   "source": [
    "# Ejercicio 4"
   ]
  },
  {
   "cell_type": "code",
   "execution_count": 21,
   "id": "51334a57-b312-4e51-9a4f-f6595ece5e7e",
   "metadata": {},
   "outputs": [
    {
     "name": "stdout",
     "output_type": "stream",
     "text": [
      "25\n"
     ]
    }
   ],
   "source": [
    "numero_aleatorio = random.randint(1, 100)\n",
    "print(numero_aleatorio)"
   ]
  },
  {
   "cell_type": "code",
   "execution_count": 43,
   "id": "79021a9f-ad5b-4ffd-8129-3fb6569e0ba8",
   "metadata": {},
   "outputs": [
    {
     "name": "stdin",
     "output_type": "stream",
     "text": [
      "Digite un numero:  54\n"
     ]
    },
    {
     "name": "stdout",
     "output_type": "stream",
     "text": [
      "es mayor\n"
     ]
    },
    {
     "name": "stdin",
     "output_type": "stream",
     "text": [
      "Digite un numero:  65\n"
     ]
    },
    {
     "name": "stdout",
     "output_type": "stream",
     "text": [
      "es mayor\n"
     ]
    },
    {
     "name": "stdin",
     "output_type": "stream",
     "text": [
      "Digite un numero:  85\n"
     ]
    },
    {
     "name": "stdout",
     "output_type": "stream",
     "text": [
      "es mayor\n"
     ]
    },
    {
     "name": "stdin",
     "output_type": "stream",
     "text": [
      "Digite un numero:  24\n"
     ]
    },
    {
     "name": "stdout",
     "output_type": "stream",
     "text": [
      "es menor\n"
     ]
    },
    {
     "name": "stdin",
     "output_type": "stream",
     "text": [
      "Digite un numero:  2\n"
     ]
    },
    {
     "name": "stdout",
     "output_type": "stream",
     "text": [
      "es menor\n"
     ]
    },
    {
     "name": "stdin",
     "output_type": "stream",
     "text": [
      "Digite un numero:  6\n"
     ]
    },
    {
     "name": "stdout",
     "output_type": "stream",
     "text": [
      "es menor\n"
     ]
    },
    {
     "name": "stdin",
     "output_type": "stream",
     "text": [
      "Digite un numero:  25\n"
     ]
    },
    {
     "name": "stdout",
     "output_type": "stream",
     "text": [
      "atinaste mi rey, despues de 7 intentos\n"
     ]
    }
   ],
   "source": [
    "gano = False\n",
    "contador = 0\n",
    "while gano != True:\n",
    "    entrada = input('Digite un numero: ')\n",
    "    contador += 1\n",
    "    if int(entrada) < numero_aleatorio:\n",
    "        print(\"es menor\")\n",
    "    elif int(entrada) == numero_aleatorio:\n",
    "        print(\"atinaste mi rey,\"+\" despues de \"+ str(contador) +\" intentos\")\n",
    "        gano = True \n",
    "    else:\n",
    "        print(\"es mayor\")    "
   ]
  },
  {
   "cell_type": "markdown",
   "id": "797c7031-3235-491f-a301-e87bb2abb64e",
   "metadata": {},
   "source": [
    "# Ejercicio 5"
   ]
  },
  {
   "cell_type": "code",
   "execution_count": 51,
   "id": "46664d3e-2737-4ae1-8a5f-5b39ca1d4c95",
   "metadata": {},
   "outputs": [],
   "source": [
    "def palabras_mas_frecuentes_alt(texto, n=5):\n",
    "    # Convertir a minúsculas\n",
    "    texto = texto.lower()\n",
    "    \n",
    "    # Encontrar todas las palabras\n",
    "    palabras = re.findall(r'\\b[a-záéíóúüñ]+\\b', texto)\n",
    "    \n",
    "    # Crear diccionario para contar frecuencias\n",
    "    frecuencias = {}\n",
    "    for palabra in palabras:\n",
    "        if palabra in frecuencias:\n",
    "            frecuencias[palabra] += 1\n",
    "        else:\n",
    "            frecuencias[palabra] = 1\n",
    "    \n",
    "    # Ordenar el diccionario por valores (frecuencias) en orden descendente\n",
    "    palabras_ordenadas = sorted(frecuencias.items(), key=lambda x: x[1], reverse=True)\n",
    "    \n",
    "    # Retornar las n palabras más frecuentes\n",
    "    return palabras_ordenadas[:n]"
   ]
  },
  {
   "cell_type": "code",
   "execution_count": 54,
   "id": "3148f8f8-5e11-4d35-b61c-8c3f55ba2dae",
   "metadata": {},
   "outputs": [
    {
     "name": "stdin",
     "output_type": "stream",
     "text": [
      "Digite un texto de entrada:  Como se mencionó, al existir costos por el uso de los servicios de Twilio, estos se justifican por la funcionalidad y versatilidad que ofrece, por lo que se puede hacer una estimación adicional al presupuesto inicial; Twilio cuenta con una calculadora donde se puede establecer el precio teniendo en cuenta el número de conversaciones y la cantidad de mensajes que se deseen transmitir para una primera etapa.\n"
     ]
    },
    {
     "name": "stdout",
     "output_type": "stream",
     "text": [
      "Número de caracteres:409\n",
      "Número de palabras: 67\n",
      "Las 5 palabras más frecuentes son:\n",
      "'se': 5 veces\n",
      "'de': 4 veces\n",
      "'por': 3 veces\n",
      "'el': 3 veces\n",
      "'que': 3 veces\n"
     ]
    }
   ],
   "source": [
    "texto = input('Digite un texto de entrada: ')\n",
    "num_caracteres = len(texto)\n",
    "print(\"Número de caracteres:\"+ str(num_caracteres))  # Resultado: 10\n",
    "\n",
    "num_palabras = len(texto.split())\n",
    "print(f\"Número de palabras: {num_palabras}\")  # Resultado: 4\n",
    "\n",
    "top_palabras = palabras_mas_frecuentes_alt(texto)\n",
    "\n",
    "print(\"Las 5 palabras más frecuentes son:\")\n",
    "for palabra, frecuencia in top_palabras:\n",
    "    print(f\"'{palabra}': {frecuencia} veces\")\n"
   ]
  },
  {
   "cell_type": "code",
   "execution_count": null,
   "id": "2298d798-5927-4e6e-bd6f-244ce85821a5",
   "metadata": {},
   "outputs": [],
   "source": []
  }
 ],
 "metadata": {
  "kernelspec": {
   "display_name": "Python 3 (ipykernel)",
   "language": "python",
   "name": "python3"
  },
  "language_info": {
   "codemirror_mode": {
    "name": "ipython",
    "version": 3
   },
   "file_extension": ".py",
   "mimetype": "text/x-python",
   "name": "python",
   "nbconvert_exporter": "python",
   "pygments_lexer": "ipython3",
   "version": "3.12.4"
  }
 },
 "nbformat": 4,
 "nbformat_minor": 5
}
