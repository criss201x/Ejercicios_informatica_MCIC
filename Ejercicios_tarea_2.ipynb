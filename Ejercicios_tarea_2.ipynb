{
  "nbformat": 4,
  "nbformat_minor": 0,
  "metadata": {
    "colab": {
      "provenance": []
    },
    "kernelspec": {
      "name": "python3",
      "display_name": "Python 3"
    },
    "language_info": {
      "name": "python"
    }
  },
  "cells": [
    {
      "cell_type": "markdown",
      "source": [
        "# Conversor de numeros entre diferentes bases\n"
      ],
      "metadata": {
        "id": "Vit5npBubLND"
      }
    },
    {
      "cell_type": "code",
      "source": [
        "def convert_dec(numero_decimal):\n",
        "  numero_binario = bin(numero_decimal)\n",
        "  numero_hexadecimal = hex(numero_decimal)\n",
        "  return numero_binario, numero_hexadecimal"
      ],
      "metadata": {
        "id": "yICSvFvfbLGD"
      },
      "execution_count": null,
      "outputs": []
    },
    {
      "cell_type": "code",
      "source": [
        "def convert_bin(numero_binario):\n",
        "  numero_decimal = int(numero_binario, 2)\n",
        "  numero_hexadecimal = hex(numero_decimal)\n",
        "  return numero_decimal, numero_hexadecimal"
      ],
      "metadata": {
        "id": "TXG1tJaAeaWy"
      },
      "execution_count": null,
      "outputs": []
    },
    {
      "cell_type": "code",
      "source": [
        "def convert_hex(numero_hexadecimal):\n",
        "  numero_decimal = int(numero_hexadecimal, 16)\n",
        "  numero_binario = bin(numero_decimal)\n",
        "  return numero_decimal, numero_binario"
      ],
      "metadata": {
        "id": "CXG4GvVVei5C"
      },
      "execution_count": null,
      "outputs": []
    },
    {
      "cell_type": "code",
      "source": [
        "base = input(\"Seleccione la base del numero \\n 1.Decimal \\n 2.Hexadecimal\\n 3.Binario  \\n\")\n",
        "\n",
        "if base == \"1\":\n",
        "  numero_decimal = int(input(\"Ingrese el numero decimal: \"))\n",
        "  binario,hexadecimal = convert_dec(numero_decimal)\n",
        "  print(f\"Binario:  {binario}, Hexadecimal:{hexadecimal}\")\n",
        "elif base == \"2\":\n",
        "  numero_hexadecimal = \"0x\"+input(\"Ingrese el numero hexadecimal: \")\n",
        "  decimal,binario = convert_hex(numero_hexadecimal)\n",
        "  print(f\"Decimal:  {decimal}, Binario:{binario}\")\n",
        "elif base == \"3\":\n",
        "  numero_binario = \"0b\"+input(\"Ingrese el numero binario: \")\n",
        "  decimal,hexadecimal = convert_bin(numero_binario)\n",
        "  print(f\"Decimal:  {decimal}, Hexadecimal:{hexadecimal}\")\n",
        "else:\n",
        "  print(\"Opcion no valida\")"
      ],
      "metadata": {
        "colab": {
          "base_uri": "https://localhost:8080/"
        },
        "id": "MxybEKPPer67",
        "outputId": "0d27a533-b285-49de-c262-480d19e26a6a"
      },
      "execution_count": null,
      "outputs": [
        {
          "output_type": "stream",
          "name": "stdout",
          "text": [
            "Seleccione la base del numero \n",
            " 1.Decimal \n",
            " 2.Hexadecimal\n",
            " 3.Binario  \n",
            "2\n",
            "Ingrese el numero hexadecimal: FFFFF\n",
            "Decimal:  1048575, Binario:0b11111111111111111111\n"
          ]
        }
      ]
    },
    {
      "cell_type": "markdown",
      "source": [
        "# Fibonacci recursivo"
      ],
      "metadata": {
        "id": "WZGmuI88jjbB"
      }
    },
    {
      "cell_type": "code",
      "source": [
        "def fibonacci_recursivo(n):\n",
        "  if n <= 1:\n",
        "    return n\n",
        "  else:\n",
        "    return fibonacci_recursivo(n-1) + fibonacci_recursivo(n-2)\n",
        "\n",
        "def fibonacci_secuencia(limite):\n",
        "  secuencia = []\n",
        "  for i in range(limite + 1):\n",
        "    secuencia.append(fibonacci_recursivo(i))\n",
        "  return secuencia\n"
      ],
      "metadata": {
        "id": "gSWVzbxcj4PA"
      },
      "execution_count": null,
      "outputs": []
    },
    {
      "cell_type": "code",
      "source": [
        "fibonacci_secuencia(40)"
      ],
      "metadata": {
        "colab": {
          "base_uri": "https://localhost:8080/"
        },
        "id": "tjexsRPakzqA",
        "outputId": "5497c013-9413-4035-b8c6-53aea30d916f"
      },
      "execution_count": null,
      "outputs": [
        {
          "output_type": "execute_result",
          "data": {
            "text/plain": [
              "[0,\n",
              " 1,\n",
              " 1,\n",
              " 2,\n",
              " 3,\n",
              " 5,\n",
              " 8,\n",
              " 13,\n",
              " 21,\n",
              " 34,\n",
              " 55,\n",
              " 89,\n",
              " 144,\n",
              " 233,\n",
              " 377,\n",
              " 610,\n",
              " 987,\n",
              " 1597,\n",
              " 2584,\n",
              " 4181,\n",
              " 6765,\n",
              " 10946,\n",
              " 17711,\n",
              " 28657,\n",
              " 46368,\n",
              " 75025,\n",
              " 121393,\n",
              " 196418,\n",
              " 317811,\n",
              " 514229,\n",
              " 832040,\n",
              " 1346269,\n",
              " 2178309,\n",
              " 3524578,\n",
              " 5702887,\n",
              " 9227465,\n",
              " 14930352,\n",
              " 24157817,\n",
              " 39088169,\n",
              " 63245986,\n",
              " 102334155]"
            ]
          },
          "metadata": {},
          "execution_count": 58
        }
      ]
    },
    {
      "cell_type": "markdown",
      "source": [],
      "metadata": {
        "id": "XGGu2hKhoY0o"
      }
    },
    {
      "cell_type": "markdown",
      "source": [
        "# Inventarios"
      ],
      "metadata": {
        "id": "pGKNqT2CmqK4"
      }
    },
    {
      "cell_type": "code",
      "source": [
        "import json\n",
        "\n",
        "def agregar_producto(inventario, nombre, cantidad):\n",
        "  if nombre in inventario:\n",
        "    inventario[nombre] += cantidad\n",
        "  else:\n",
        "    inventario[nombre] = cantidad\n",
        "  return inventario\n",
        "\n",
        "def eliminar_producto(inventario, nombre):\n",
        "  if nombre in inventario:\n",
        "    del inventario[nombre]\n",
        "    return inventario\n",
        "  else:\n",
        "    return \"Producto no encontrado\"\n",
        "\n",
        "def buscar_producto(inventario, nombre):\n",
        "  if nombre in inventario:\n",
        "    return inventario[nombre]\n",
        "  else:\n",
        "    return \"Producto no encontrado\"\n",
        "\n",
        "def guardar_inventario(inventario, archivo=\"inventario.json\"):\n",
        "  with open(archivo, 'w') as f:\n",
        "    json.dump(inventario, f, indent=4)\n",
        "\n",
        "def cargar_inventario(archivo=\"inventario.json\"):\n",
        "  try:\n",
        "    with open(archivo, 'r') as f:\n",
        "      return json.load(f)\n",
        "  except FileNotFoundError:\n",
        "    return {}\n",
        "\n",
        "# Ejemplo de uso\n",
        "inventario = cargar_inventario()\n",
        "\n",
        "while True:\n",
        "  accion = input(\"¿Qué desea hacer? (agregar/eliminar/buscar/guardar/salir): \").lower()\n",
        "\n",
        "  if accion == \"agregar\":\n",
        "    nombre = input(\"Nombre del producto: \")\n",
        "    cantidad = int(input(\"Cantidad: \"))\n",
        "    inventario = agregar_producto(inventario, nombre, cantidad)\n",
        "  elif accion == \"eliminar\":\n",
        "    nombre = input(\"Nombre del producto a eliminar: \")\n",
        "    resultado = eliminar_producto(inventario, nombre)\n",
        "    if isinstance(resultado, str):\n",
        "        print(resultado)\n",
        "    else:\n",
        "        inventario = resultado\n",
        "  elif accion == \"buscar\":\n",
        "    nombre = input(\"Nombre del producto a buscar: \")\n",
        "    cantidad = buscar_producto(inventario, nombre)\n",
        "    print(f\"Cantidad de {nombre}: {cantidad}\")\n",
        "  elif accion == \"guardar\":\n",
        "    guardar_inventario(inventario)\n",
        "    print(\"Inventario guardado.\")\n",
        "  elif accion == \"salir\":\n",
        "    break\n",
        "  else:\n",
        "    print(\"Acción no válida.\")\n"
      ],
      "metadata": {
        "colab": {
          "base_uri": "https://localhost:8080/"
        },
        "id": "xKnpnFzSm01K",
        "outputId": "7c2869ba-e075-42e8-e4b9-7c554d9d85bf"
      },
      "execution_count": null,
      "outputs": [
        {
          "name": "stdout",
          "output_type": "stream",
          "text": [
            "¿Qué desea hacer? (agregar/eliminar/buscar/guardar/salir): buscar\n",
            "Nombre del producto a buscar: Agua\n",
            "Cantidad de Agua: Producto no encontrado\n",
            "¿Qué desea hacer? (agregar/eliminar/buscar/guardar/salir): buscar\n",
            "Nombre del producto a buscar: agua\n",
            "Cantidad de agua: Producto no encontrado\n",
            "¿Qué desea hacer? (agregar/eliminar/buscar/guardar/salir): salir\n"
          ]
        }
      ]
    }
  ]
}