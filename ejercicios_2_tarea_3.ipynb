{
 "cells": [
  {
   "cell_type": "code",
   "execution_count": 8,
   "id": "db5eecc3-489b-43f8-8f12-f2b80224e574",
   "metadata": {},
   "outputs": [],
   "source": [
    "import random\n",
    "import math\n",
    "import csv\n",
    "from collections import Counter"
   ]
  },
  {
   "cell_type": "code",
   "execution_count": 15,
   "id": "efd778e0-bb46-40ab-9408-d4457dc891f3",
   "metadata": {},
   "outputs": [],
   "source": [
    "def read_value_column(file_path):\n",
    "    values = []\n",
    "    with open(file_path, mode='r') as file:\n",
    "        csv_reader = csv.DictReader(file)\n",
    "        for row in csv_reader:\n",
    "            values.append(int(row['valor']))\n",
    "    return values\n",
    "\n",
    "file_path = 'datos_entrada.csv'\n",
    "#value_list = read_value_column(file_path)\n",
    "#print(value_list)\n",
    "\n",
    "numeros_aleatorios = read_value_column(file_path)\n",
    "\n",
    "def calcular_media(lista):\n",
    "    return sum(lista) / len(lista)\n",
    "\n",
    "# Cálculo de la mediana\n",
    "def calcular_mediana(lista):\n",
    "    lista_ordenada = sorted(lista)\n",
    "    n = len(lista_ordenada)\n",
    "    \n",
    "    if n % 2 == 0:  # Si la lista tiene un número par de elementos\n",
    "        return (lista_ordenada[n//2 - 1] + lista_ordenada[n//2]) / 2\n",
    "    else:  # Si la lista tiene un número impar de elementos\n",
    "        return lista_ordenada[n//2]\n",
    "\n",
    "# Cálculo de la moda\n",
    "def calcular_moda(lista):\n",
    "    contador = Counter(lista)\n",
    "    max_frecuencia = max(contador.values())\n",
    "    \n",
    "    # Encontrar todos los valores que aparecen con la frecuencia máxima\n",
    "    modas = [valor for valor, frecuencia in contador.items() if frecuencia == max_frecuencia]\n",
    "    \n",
    "    return modas\n",
    "\n",
    "# Cálculo de la desviación estándar\n",
    "def calcular_desviacion_estandar(lista):\n",
    "    media = calcular_media(lista)\n",
    "    suma_cuadrados_diferencias = sum((x - media) ** 2 for x in lista)\n",
    "    varianza = suma_cuadrados_diferencias / len(lista)\n",
    "    return math.sqrt(varianza)"
   ]
  },
  {
   "cell_type": "code",
   "execution_count": 16,
   "id": "e4505b1d-e648-4035-91e2-72bd91c092d7",
   "metadata": {},
   "outputs": [
    {
     "name": "stdout",
     "output_type": "stream",
     "text": [
      "Lista de números aleatorios:\n",
      "[38, 29, 21, 14, 5, 46, 7, 34, 41, 39, 31, 44, 12, 26, 24, 6, 35, 8, 24, 41, 34, 2, 27, 37, 50, 13, 42, 50, 29, 32, 34, 29, 30, 40, 43, 36, 3, 40, 28, 35, 11, 41, 42, 18, 45, 11, 33, 9, 30, 14, 48, 46, 33, 6, 38, 33, 43, 25, 16, 5, 46, 15, 15, 14, 42, 19, 37, 46, 12, 21, 20, 29, 36, 13, 19, 5, 17, 37, 15, 9, 30, 25, 11, 30, 37, 24, 40, 22, 20, 16, 41, 14, 25, 45, 36, 48, 40, 24, 42, 18, 21, 17, 49, 10, 2, 36, 18, 49, 20, 46, 50, 17, 9, 38, 48, 4, 17, 5, 11, 10, 9, 10, 38, 8, 25, 30, 15, 8, 37, 10, 22, 4, 27, 36, 46, 7, 23, 29, 37, 43, 13, 22, 11, 29, 9, 48, 29, 43, 31, 3, 15, 41, 47, 22, 42, 13, 50, 47, 7, 41, 25, 1, 16, 20, 45, 18, 16, 4, 44, 27, 49, 28, 38, 26, 6, 50, 34, 17, 3, 7, 10, 25, 37, 11, 29, 27, 39, 45, 40, 42, 20, 4, 5, 13, 8, 17, 8, 24, 9, 49, 42, 48, 43, 15, 16, 14, 28, 15, 3, 18, 18, 17, 38, 37, 41, 28, 25, 4, 40, 9, 38, 10, 38, 26, 21, 31, 34, 21, 45, 21, 43, 30, 32, 31, 1, 4, 26, 28, 13, 43, 33, 2, 8, 37, 26, 27, 11, 40, 30, 10, 35, 2, 10, 46, 11, 14, 26, 4, 2, 36, 6, 38, 14, 17, 1, 17, 21, 28, 43, 40, 7, 22, 40, 43, 17, 32, 33, 40, 9, 36, 44, 12, 49, 14, 39, 4, 8, 8, 9, 16, 41, 29, 8, 1, 28, 42, 42, 36, 36, 16, 32, 4, 3, 28, 1, 37, 41, 11, 24, 28, 29, 36, 6, 25, 2, 31, 3, 38, 29, 34, 24, 34, 39, 35, 47, 38, 48, 46, 18, 24, 10, 45, 17, 22, 31, 38, 4, 42, 12, 41, 50, 5, 19, 27, 49, 49, 46, 14, 33, 49, 6, 17, 24, 22, 47, 24, 34, 4, 3, 1, 12, 48, 16, 38, 36, 16, 42, 8, 36, 17, 4, 29, 38, 41, 32, 43, 46, 14, 6, 35, 11, 42, 43, 21, 46, 42, 40, 38, 18, 2, 35, 1, 31, 4, 39, 37, 26, 1, 38, 7, 16, 16, 36, 7, 49, 3, 15, 35, 19, 17, 30, 7, 32, 22, 20, 44, 14, 48, 50, 49, 34, 45, 32, 11, 6, 48, 35, 11, 50, 28, 5, 19, 31, 12, 24, 19, 24, 24, 4, 13, 44, 9, 49, 34, 37, 5, 2, 48, 49, 6, 30, 2, 30, 40, 7, 17, 15, 4, 43, 47, 41, 9, 34, 2, 5, 45, 38, 27, 27, 48, 32, 30, 14, 49, 26, 45, 5, 48, 9, 39, 10, 20, 37, 23, 26, 16, 45, 2, 35, 30, 36, 3, 25, 45, 26, 31, 35, 38, 30, 23, 32, 36, 10, 17, 2, 30, 45, 3, 35, 14, 47, 35, 30, 14, 27, 32, 35, 11, 7, 8, 47, 18, 47, 50, 8, 45, 2, 3, 21, 14, 9, 16, 25, 22, 28, 15, 12, 12, 41, 33, 46, 25, 15, 32, 18, 34, 29, 24, 42, 7, 49, 27, 8, 38, 31, 22, 30, 28, 31, 44, 8, 47, 33, 14, 44, 31, 49, 19, 4, 42, 5, 18, 11, 44, 49, 15, 15, 39, 12, 47, 16, 16, 15, 6, 28, 23, 44, 40, 33, 43, 12, 41, 7, 1, 27, 50, 32, 11, 46, 36, 24, 21, 24, 29, 7, 31, 24, 45, 33, 28, 7, 16, 3, 2, 9, 39, 3, 26, 2, 11, 11, 5, 30, 24, 49, 5, 42, 22, 12, 5, 22, 26, 39, 28, 39, 16, 28, 36, 36, 33, 12, 30, 8, 6, 23, 35, 25, 19, 19, 21, 15, 34, 33, 11, 37, 17, 15, 4, 8, 48, 46, 42, 27, 11, 35, 23, 44, 50, 25, 6, 12, 14, 9, 39, 27, 28, 24, 23, 5, 31, 17, 39, 26, 46, 48, 47, 6, 48, 24, 39, 50, 30, 38, 7, 30, 10, 45, 38, 20, 4, 23, 24, 39, 48, 46, 33, 32, 30, 41, 48, 21, 7, 14, 47, 1, 3, 10, 16, 17, 36, 24, 35, 2, 15, 45, 14, 27, 5, 33, 9, 42, 8, 39, 27, 41, 5, 49, 3, 33, 47, 4, 36, 25, 21, 49, 42, 9, 10, 9, 17, 13, 3, 9, 27, 23, 1, 6, 16, 3, 26, 24, 22, 40, 39, 49, 25, 35, 30, 6, 24, 2, 12, 6, 37, 15, 41, 30, 44, 49, 22, 15, 14, 41, 47, 46, 19, 16, 27, 34, 30, 8, 22, 24, 16, 43, 33, 2, 36, 11, 27, 28, 30, 38, 46, 16, 32, 29, 41, 5, 36, 15, 13, 6, 26, 46, 43, 5, 1, 44, 41, 36, 15, 33, 35, 30, 1, 1, 17, 18, 10, 15, 24, 45, 28, 25, 47, 19, 41, 12, 44, 6, 29, 42, 34, 30, 43, 6, 46, 41, 14, 5, 48, 26, 48, 45, 18, 15, 33, 12, 47, 12, 21, 38, 37, 39, 25, 3, 22, 37, 18, 13, 32, 9, 49, 14, 11, 2, 48, 27, 32, 45, 3, 33, 34, 6, 2, 36, 33, 49, 6, 3, 9, 21, 31, 41, 23, 34, 1, 10, 16, 3, 1, 28, 30, 9, 40, 2, 12, 31, 41, 6, 44, 43, 47, 43, 49, 44, 28, 3, 49, 24, 49, 39, 28, 24, 39, 14, 27, 37, 15, 15, 22, 35, 35, 50, 27, 27, 6, 43, 14, 5, 50, 41, 16, 42, 3, 17, 47, 38, 17, 38, 37, 11, 2, 28, 21, 35, 25, 22, 25, 43, 46, 6, 17, 25, 26, 6, 29, 42, 40, 47, 11, 39, 8, 10, 9, 11, 24, 7, 31, 8, 39, 30, 18, 1, 16, 45, 15, 35, 44, 34, 13, 41, 11, 23, 41, 5, 10, 37, 41]\n",
      "\n",
      "Total de números: 1000\n",
      "Media: 25.59\n",
      "Mediana: 26.00\n",
      "Moda: [24, 30]\n",
      "Desviación estándar: 14.56\n"
     ]
    }
   ],
   "source": [
    "# Calcular todas las estadísticas\n",
    "media = calcular_media(numeros_aleatorios)\n",
    "mediana = calcular_mediana(numeros_aleatorios)\n",
    "moda = calcular_moda(numeros_aleatorios)\n",
    "desviacion_estandar = calcular_desviacion_estandar(numeros_aleatorios)\n",
    "\n",
    "# Mostrar los resultados\n",
    "print(\"Lista de números aleatorios:\")\n",
    "print(numeros_aleatorios)\n",
    "print(f\"\\nTotal de números: {len(numeros_aleatorios)}\")\n",
    "print(f\"Media: {media:.2f}\")\n",
    "print(f\"Mediana: {mediana:.2f}\")\n",
    "print(f\"Moda: {moda}\")\n",
    "print(f\"Desviación estándar: {desviacion_estandar:.2f}\")"
   ]
  },
  {
   "cell_type": "code",
   "execution_count": null,
   "id": "f150ec0c-d24b-4153-a12d-21f044f80fa3",
   "metadata": {},
   "outputs": [],
   "source": []
  },
  {
   "cell_type": "code",
   "execution_count": null,
   "id": "a6e0cceb-d2a8-4c10-a68d-7210437643eb",
   "metadata": {},
   "outputs": [],
   "source": []
  },
  {
   "cell_type": "code",
   "execution_count": null,
   "id": "57916f9d-4a5d-463a-b1a3-780baa654a33",
   "metadata": {},
   "outputs": [],
   "source": []
  }
 ],
 "metadata": {
  "kernelspec": {
   "display_name": "Python 3 (ipykernel)",
   "language": "python",
   "name": "python3"
  },
  "language_info": {
   "codemirror_mode": {
    "name": "ipython",
    "version": 3
   },
   "file_extension": ".py",
   "mimetype": "text/x-python",
   "name": "python",
   "nbconvert_exporter": "python",
   "pygments_lexer": "ipython3",
   "version": "3.12.4"
  }
 },
 "nbformat": 4,
 "nbformat_minor": 5
}
