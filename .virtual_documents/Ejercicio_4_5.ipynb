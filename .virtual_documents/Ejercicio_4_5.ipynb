import random
import re
from graphviz import Digraph





numero_aleatorio = random.randint(1, 100)
print(numero_aleatorio)


gano = False
contador = 0
while gano != True:
    entrada = input('Digite un numero: ')
    contador += 1
    if int(entrada) < numero_aleatorio:
        print("es menor")
    elif int(entrada) == numero_aleatorio:
        print("atinaste despues de "+ str(contador) +" intentos")
        gano = True 
    else:
        print("es mayor")    


from graphviz import Digraph

# Crear un objeto Digraph
dot = Digraph(comment='Juego de Adivinar el Número')

# Personalizar el estilo del gráfico
dot.attr('graph', rankdir='TB')  # Dirección del flujo (TB = Top to Bottom)
dot.attr('node', shape='box', style='filled', color='lightblue2')  # Estilo de los nodos
dot.attr('edge', color='gray')  # Estilo de las flechas

# Agregar nodos
dot.node('Start', 'Inicio', shape='ellipse', color='green', fillcolor='lightgreen')  # Nodo inicial
dot.node('Generate', 'Generar número secreto', fillcolor='lightyellow')  # Generar número secreto
dot.node('Init', 'Inicializar contador (intentos = 0)', fillcolor='lightyellow')  # Inicializar contador
dot.node('Input', 'Solicitar número al usuario', fillcolor='lightblue')  # Solicitar número
dot.node('Compare', '¿Número == Secreto?', shape='diamond', fillcolor='orange')  # Comparación
dot.node('Greater', 'El número es mayor', fillcolor='salmon')  # Número es mayor
dot.node('Less', 'El número es menor', fillcolor='salmon')  # Número es menor
#dot.node('Success', '¡Felicidades! Adivinaste el número', fillcolor='lightgreen')  # Éxito
dot.node('Success', '¡Felicidades! Adivinaste el número en '+ str(contador) +' intentos', fillcolor='lightgreen')
dot.node('Increment', 'Incrementar contador (intentos += 1)', fillcolor='lightyellow')  # Incrementar contador
dot.node('End', 'Fin', shape='ellipse', color='red', fillcolor='lightcoral')  # Nodo final

# Agregar bordes (conexiones)
dot.edge('Start', 'Generate')  # Inicio -> Generar número secreto
dot.edge('Generate', 'Init')  # Generar número secreto -> Inicializar contador
dot.edge('Init', 'Input')  # Inicializar contador -> Solicitar número
dot.edge('Input', 'Compare')  # Solicitar número -> Comparación
dot.edge('Compare', 'Greater', label='Número < Secreto')  # Comparación (Número < Secreto) -> El número es mayor
dot.edge('Compare', 'Less', label='Número > Secreto')  # Comparación (Número > Secreto) -> El número es menor
dot.edge('Compare', 'Success', label='Número == Secreto')  # Comparación (Número == Secreto) -> Éxito
dot.edge('Greater', 'Increment')  # El número es mayor -> Incrementar contador
dot.edge('Less', 'Increment')  # El número es menor -> Incrementar contador
dot.edge('Increment', 'Input')  # Incrementar contador -> Solicitar número (bucle)
dot.edge('Success', 'End')  # Éxito -> Fin

# Mostrar el diagrama en el notebook
dot





def palabras_mas_frecuentes_alt(texto, n=5):
    # Convertir a minúsculas
    texto = texto.lower()
    
    # Encontrar todas las palabras
    palabras = re.findall(r'\b[a-záéíóúüñ]+\b', texto)
    
    # Crear diccionario para contar frecuencias
    frecuencias = {}
    for palabra in palabras:
        if palabra in frecuencias:
            frecuencias[palabra] += 1
        else:
            frecuencias[palabra] = 1
    
    # Ordenar el diccionario por valores (frecuencias) en orden descendente
    palabras_ordenadas = sorted(frecuencias.items(), key=lambda x: x[1], reverse=True)
    
    # Retornar las n palabras más frecuentes
    return palabras_ordenadas[:n]


texto = input('Digite un texto de entrada: ')
num_caracteres = len(texto)
print("Número de caracteres:"+ str(num_caracteres))  # Resultado: 10

num_palabras = len(texto.split())
print(f"Número de palabras: {num_palabras}")  # Resultado: 4

top_palabras = palabras_mas_frecuentes_alt(texto)

print("Las 5 palabras más frecuentes son:")
for palabra, frecuencia in top_palabras:
    print(f"'{palabra}': {frecuencia} veces")




# Crear un objeto Digraph
dot = Digraph(comment='Procesamiento de Texto')

# Personalizar el estilo del gráfico
dot.attr('graph', rankdir='TB')  # Dirección del flujo (TB = Top to Bottom)
dot.attr('node', shape='box', style='filled', color='lightblue2')  # Estilo de los nodos
dot.attr('edge', color='gray')  # Estilo de las flechas

# Agregar nodos
dot.node('Start', 'Inicio', shape='ellipse', color='green', fillcolor='lightgreen')  # Nodo inicial
dot.node('Input', 'Solicitar texto al usuario', fillcolor='lightblue')  # Solicitar texto
dot.node('Process', 'Procesar texto\n(Caja Negra)', shape='rectangle', fillcolor='lightyellow')  # Caja negra

# Agregar bordes (conexiones)
dot.edge('Start', 'Input')  # Inicio -> Solicitar texto
dot.edge('Input', 'Process')  # Solicitar texto -> Procesar texto

dot.node('CountWords', 'Contar palabras y caracteres', fillcolor='lightyellow')
dot.node('FindFrequent', 'Identificar palabra más frecuente', fillcolor='lightyellow')
dot.node('ShowStats', 'Mostrar estadísticas', fillcolor='lightblue')

dot.edge('Process', 'CountWords')
dot.edge('CountWords', 'FindFrequent')
dot.edge('FindFrequent', 'ShowStats')

# Mostrar el diagrama en el notebook
dot



