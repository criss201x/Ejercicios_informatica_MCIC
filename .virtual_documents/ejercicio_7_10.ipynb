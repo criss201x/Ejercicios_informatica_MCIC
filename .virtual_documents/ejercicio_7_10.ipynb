import random
import re





def determinar_clasificacion(promedio):
    if promedio >= 90:
        return "A"
    elif promedio >= 80:
        return "B"
    elif promedio >= 70:
        return "C"
    elif promedio >= 60:
        return "D"
    else:
        return "F"
        
def ingresar_estudiante():    
    estudiantes = []
    nombre = input("Ingrese el nombre del estudiante: ")
        
    nota_a = float(input("Ingrese la calificación 1: "))
    nota_b = float(input("Ingrese la calificación 2: "))
    nota_c = float(input("Ingrese la calificación 3: "))
        
    promedio = (nota_a + nota_b + nota_c) / 3
        
    clasificacion = determinar_clasificacion(promedio)
    
    estudiante = {
        "nombre": nombre,
        "calificaciones": [nota_a, nota_b, nota_c],
        "promedio": promedio,
        "clasificacion": clasificacion
    }
        
    estudiantes.append(estudiante)
    
    return estudiante


def mostrar_estudiante(estudiante):
    print(f"Estudiante: {estudiante['nombre']}")
    print(f"Nota A: {estudiante['calificaciones'][0]}")
    print(f"Nota B: {estudiante['calificaciones'][1]}")
    print(f"Nota C: {estudiante['calificaciones'][2]}")
    print(f"Promedio: {estudiante['promedio']:.2f}")
    print(f"Clasificación: {estudiante['clasificacion']}")


estudiante = ingresar_estudiante()
print("\nEstudiante registrado correctamente:")
mostrar_estudiante(estudiante)


estudiante = ingresar_estudiante()
print("\nEstudiante registrado correctamente:")
mostrar_estudiante(estudiante)


from graphviz import Digraph

# Crear un objeto Digraph
dot = Digraph(comment='Clasificación de Calificaciones')

# Personalizar el estilo del gráfico
dot.attr('graph', rankdir='TB')  # Dirección del flujo (TB = Top to Bottom)
dot.attr('node', shape='box', style='filled', color='lightblue2')  # Estilo de los nodos
dot.attr('edge', color='gray')  # Estilo de las flechas

# Agregar nodos
dot.node('Start', 'Inicio', shape='ellipse', color='green', fillcolor='lightgreen')  # Nodo inicial
dot.node('InputName', 'Solicitar nombre del estudiante', fillcolor='lightblue')  # Solicitar nombre
dot.node('InputGrades', 'Solicitar 3 calificaciones', fillcolor='lightblue')  # Solicitar calificaciones
dot.node('CalculateAvg', 'Calcular promedio', fillcolor='lightyellow')  # Calcular promedio
dot.node('Classify', 'Clasificar según promedio', shape='diamond', fillcolor='orange')  # Clasificación
dot.node('A', 'Clasificación: A (90-100)', fillcolor='lightgreen')  # Clasificación A
dot.node('B', 'Clasificación: B (80-89)', fillcolor='lightgreen')  # Clasificación B
dot.node('C', 'Clasificación: C (70-79)', fillcolor='lightgreen')  # Clasificación C
dot.node('D', 'Clasificación: D (60-69)', fillcolor='lightgreen')  # Clasificación D
dot.node('F', 'Clasificación: F (0-59)', fillcolor='lightgreen')  # Clasificación F
dot.node('End', 'Fin', shape='ellipse', color='red', fillcolor='lightcoral')  # Nodo final

# Agregar bordes (conexiones)
dot.edge('Start', 'InputName')  # Inicio -> Solicitar nombre
dot.edge('InputName', 'InputGrades')  # Solicitar nombre -> Solicitar calificaciones
dot.edge('InputGrades', 'CalculateAvg')  # Solicitar calificaciones -> Calcular promedio
dot.edge('CalculateAvg', 'Classify')  # Calcular promedio -> Clasificar
dot.edge('Classify', 'A', label='90-100')  # Clasificación A
dot.edge('Classify', 'B', label='80-89')  # Clasificación B
dot.edge('Classify', 'C', label='70-79')  # Clasificación C
dot.edge('Classify', 'D', label='60-69')  # Clasificación D
dot.edge('Classify', 'F', label='0-59')  # Clasificación F
dot.edge('A', 'End')  # Clasificación A -> Fin
dot.edge('B', 'End')  # Clasificación B -> Fin
dot.edge('C', 'End')  # Clasificación C -> Fin
dot.edge('D', 'End')  # Clasificación D -> Fin
dot.edge('F', 'End')  # Clasificación F -> Fin

# Mostrar el diagrama en el notebook
dot





while True:    
    try:        
        num_lanzamientos = int(input("Introduce la cantidad de lanzamientos del dado: "))
        if num_lanzamientos > 0:                
            break
        else:
            print("Por favor, introduce un número positivo.")
    except ValueError:
        print("Por favor, introduce un número entero válido.")



conteo = {1: 0, 2: 0, 3: 0, 4: 0, 5: 0, 6: 0}
    
for i in range(1, num_lanzamientos + 1):
    cara = random.randint(1, 6)
    conteo[cara] += 1


print("\nFrecuencia de cada cara:")
print("Cara | Cantidad | Porcentaje")
print("----------------------------")
for cara in range(1, 7):
    cantidad = conteo[cara]
    porcentaje = (cantidad / num_lanzamientos) * 100
    print(f"{cara:4d} | {cantidad:8d} | {porcentaje:6.2f}%")





from graphviz import Digraph


# Crear un objeto Digraph
dot = Digraph(comment='Lanzamiento de Dado')

# Personalizar el estilo del gráfico
dot.attr('graph', rankdir='TB')  # Dirección del flujo (TB = Top to Bottom)
dot.attr('node', shape='box', style='filled', color='lightblue2')  # Estilo de los nodos
dot.attr('edge', color='gray')  # Estilo de las flechas

# Agregar nodos
dot.node('Start', 'Inicio', shape='ellipse', color='green', fillcolor='lightgreen')  # Nodo inicial
dot.node('Init', 'Inicializar contadores (cara1=0, cara2=0, ..., cara6=0)', fillcolor='lightyellow')  # Inicializar contadores
dot.node('Ask', 'Preguntar: ¿Lanzar dado?', shape='diamond', fillcolor='orange')  # Preguntar si desea lanzar
dot.node('Roll', 'Lanzar dado (generar número aleatorio 1-6)', fillcolor='lightblue')  # Lanzar dado
dot.node('Update', 'Incrementar contador de la cara correspondiente', fillcolor='lightyellow')  # Actualizar contador
dot.node('Show', 'Mostrar resultados (veces que salió cada cara)', fillcolor='lightblue')  # Mostrar resultados
dot.node('End', 'Fin', shape='ellipse', color='red', fillcolor='lightcoral')  # Nodo final

# Agregar bordes (conexiones)
dot.edge('Start', 'Init')  # Inicio -> Inicializar contadores
dot.edge('Init', 'Ask')  # Inicializar contadores -> Preguntar si desea lanzar
dot.edge('Ask', 'Roll', label='Sí')  # Preguntar (Sí) -> Lanzar dado
dot.edge('Roll', 'Update')  # Lanzar dado -> Actualizar contador
dot.edge('Update', 'Ask')  # Actualizar contador -> Preguntar si desea lanzar (bucle)
dot.edge('Ask', 'Show', label='No')  # Preguntar (No) -> Mostrar resultados
dot.edge('Show', 'End')  # Mostrar resultados -> Fin

# Mostrar el diagrama en el notebook
dot















