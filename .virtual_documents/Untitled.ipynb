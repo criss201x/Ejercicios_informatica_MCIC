import random
import re





def determinar_clasificacion(promedio):
    if promedio >= 90:
        return "A"
    elif promedio >= 80:
        return "B"
    elif promedio >= 70:
        return "C"
    elif promedio >= 60:
        return "D"
    else:
        return "F"
        
def ingresar_estudiante():    
    estudiantes = []
    nombre = input("Ingrese el nombre del estudiante: ")
        
    nota_a = float(input("Ingrese la calificación 1: "))
    nota_b = float(input("Ingrese la calificación 2: "))
    nota_c = float(input("Ingrese la calificación 3: "))
        
    promedio = (nota_a + nota_b + nota_c) / 3
        
    clasificacion = determinar_clasificacion(promedio)
    
    estudiante = {
        "nombre": nombre,
        "calificaciones": [nota_a, nota_b, nota_c],
        "promedio": promedio,
        "clasificacion": clasificacion
    }
        
    estudiantes.append(estudiante)
    
    return estudiante


def mostrar_estudiante(estudiante):
    print(f"Estudiante: {estudiante['nombre']}")
    print(f"Nota A: {estudiante['calificaciones'][0]}")
    print(f"Nota B: {estudiante['calificaciones'][1]}")
    print(f"Nota C: {estudiante['calificaciones'][2]}")
    print(f"Promedio: {estudiante['promedio']:.2f}")
    print(f"Clasificación: {estudiante['clasificacion']}")


estudiante = ingresar_estudiante()
print("\nEstudiante registrado correctamente:")
mostrar_estudiante(estudiante)


estudiante = ingresar_estudiante()
print("\nEstudiante registrado correctamente:")
mostrar_estudiante(estudiante)





while True:    
    try:        
        num_lanzamientos = int(input("Introduce la cantidad de lanzamientos del dado: "))
        if num_lanzamientos > 0:                
            break
        else:
            print("Por favor, introduce un número positivo.")
    except ValueError:
        print("Por favor, introduce un número entero válido.")



conteo = {1: 0, 2: 0, 3: 0, 4: 0, 5: 0, 6: 0}
    
for i in range(1, num_lanzamientos + 1):
    cara = random.randint(1, 6)
    conteo[cara] += 1


print("\nFrecuencia de cada cara:")
print("Cara | Cantidad | Porcentaje")
print("----------------------------")
for cara in range(1, 7):
    cantidad = conteo[cara]
    porcentaje = (cantidad / num_lanzamientos) * 100
    print(f"{cara:4d} | {cantidad:8d} | {porcentaje:6.2f}%")





import graphviz  


dot = graphviz.Digraph(comment='The Round Table')


dot  #doctest: +ELLIPSIS



