import random
import math
import csv
from collections import Counter


def read_value_column(file_path):
    values = []
    with open(file_path, mode='r') as file:
        csv_reader = csv.DictReader(file)
        for row in csv_reader:
            values.append(int(row['valor']))
    return values

file_path = 'datos_entrada.csv'
#value_list = read_value_column(file_path)
#print(value_list)

numeros_aleatorios = read_value_column(file_path)

def calcular_media(lista):
    return sum(lista) / len(lista)

# Cálculo de la mediana
def calcular_mediana(lista):
    lista_ordenada = sorted(lista)
    n = len(lista_ordenada)
    
    if n % 2 == 0:  # Si la lista tiene un número par de elementos
        return (lista_ordenada[n//2 - 1] + lista_ordenada[n//2]) / 2
    else:  # Si la lista tiene un número impar de elementos
        return lista_ordenada[n//2]

# Cálculo de la moda
def calcular_moda(lista):
    contador = Counter(lista)
    max_frecuencia = max(contador.values())
    
    # Encontrar todos los valores que aparecen con la frecuencia máxima
    modas = [valor for valor, frecuencia in contador.items() if frecuencia == max_frecuencia]
    
    return modas

# Cálculo de la desviación estándar
def calcular_desviacion_estandar(lista):
    media = calcular_media(lista)
    suma_cuadrados_diferencias = sum((x - media) ** 2 for x in lista)
    varianza = suma_cuadrados_diferencias / len(lista)
    return math.sqrt(varianza)


# Calcular todas las estadísticas
media = calcular_media(numeros_aleatorios)
mediana = calcular_mediana(numeros_aleatorios)
moda = calcular_moda(numeros_aleatorios)
desviacion_estandar = calcular_desviacion_estandar(numeros_aleatorios)

# Mostrar los resultados
print("Lista de números aleatorios:")
print(numeros_aleatorios)
print(f"\nTotal de números: {len(numeros_aleatorios)}")
print(f"Media: {media:.2f}")
print(f"Mediana: {mediana:.2f}")
print(f"Moda: {moda}")
print(f"Desviación estándar: {desviacion_estandar:.2f}")









