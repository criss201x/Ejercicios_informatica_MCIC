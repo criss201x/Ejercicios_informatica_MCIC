


import time
import random



def solicitar_numero_complejo(mensaje):
    while True:
        try:
            numero = complex(input(mensaje))
            return numero
        except ValueError:
            print("Entrada no válida. Ingrese un número complejo en el formato a+bj.")

def calcular(num1, num2, operacion):
    try:
        if operacion == '+':
            return num1 + num2
        elif operacion == '-':
            return num1 - num2
        elif operacion == '*':
            return num1 * num2
        elif operacion == '/':
            return num1 / num2 if num2 != 0 else "Error: División por cero"
        else:
            return "Operación no válida"
    except Exception as e:
        return f"Error: {e}"


print("Calculadora de Números Complejos")
num1 = solicitar_numero_complejo("Ingrese el primer número complejo (ejemplo: 1+2j): ")
print(f"Número 1: {num1}")
num2 = solicitar_numero_complejo("Ingrese el segundo número complejo (ejemplo: 3-4j): ")
print(f"Número 2: {num2}")

time.sleep(0.5)

while True:
    operacion = input("Seleccione la operación (+, -, *, /): ")
    if operacion in ['+', '-', '*', '/']:
        break
    print("Operación no válida. Intente de nuevo.")

print(f"Operación: {operacion}")
    
resultado = calcular(num1, num2, operacion)
print(f"Resultado: {resultado}")






def obtener_caracteres():
    mayusculas = "ABCDEFGHIJKLMNOPQRSTUVWXYZ"
    minusculas = "abcdefghijklmnopqrstuvwxyz"
    numeros = "0123456789"
    especiales = "!@#$%^&*()_-+=<>?/"
    return mayusculas, minusculas, numeros, especiales

def generar_numero_aleatorio(limite):
    return random.randint(0, limite - 1)

def generar_contraseña(longitud):
    mayusculas, minusculas, numeros, especiales = obtener_caracteres()
    
    # Garantizar al menos un carácter de cada tipo
    contrasena = [
        random.choice(mayusculas),
        random.choice(minusculas),
        random.choice(numeros),
        random.choice(especiales)
    ]
    
    # Llenar el resto de la contraseña aleatoriamente
    caracteres_totales = mayusculas + minusculas + numeros + especiales
    for _ in range(longitud - 4):
        contrasena.append(random.choice(caracteres_totales))
    
    # Mezclar los caracteres para evitar patrones
    random.shuffle(contrasena)
    
    return "".join(contrasena)


while True:
    try:
        longitud = int(input("Ingrese la longitud de la contraseña: "))
        if longitud < 4:
            print("La longitud debe ser al menos 4 para mayor seguridad.")
            continue
        
        contrasena = generar_contraseña(longitud)
        print(f"Contraseña generada: {contrasena}")

        time.sleep(0.5)
        
        repetir = input("¿Desea generar otra contraseña? (s/n): ").strip().lower()
        if repetir != 's':
            break
    except ValueError:
        print("Por favor, ingrese un número válido.")





def convertir_longitud(valor, unidad):
    if unidad == 'm':  # Metros a pies
        return valor * 3.28084
    elif unidad == 'ft':  # Pies a metros
        return valor / 3.28084
    else:
        return None

def convertir_temperatura(valor, unidad):
    if unidad == 'c':  # Celsius a Fahrenheit
        return (valor * 9/5) + 32
    elif unidad == 'f':  # Fahrenheit a Celsius
        return (valor - 32) * 5/9
    else:
        return None

def convertir_masa(valor, unidad):
    if unidad == 'kg':  # Kilogramos a libras
        return valor * 2.20462
    elif unidad == 'lb':  # Libras a kilogramos
        return valor / 2.20462
    else:
        return None


while True:
    time.sleep(0.5)

    print("Seleccione el tipo de conversión:")
    print("1. Longitud (metros <-> pies)")
    print("2. Temperatura (Celsius <-> Fahrenheit)")
    print("3. Masa (kilogramos <-> libras)")
    opcion = input("Ingrese el número de la opción deseada: ")
    
    if opcion not in ['1', '2', '3']:
        print("Opción no válida. Intente de nuevo.")
        continue
    
    time.sleep(0.5)
    
    try:
        valor = float(input("Ingrese el valor a convertir: "))
        
        if opcion == '1':
            unidad = input("Ingrese la unidad (m para metros, ft para pies): ").strip().lower()
            resultado = convertir_longitud(valor, unidad)
            unidad_destino = 'pies' if unidad == 'm' else 'metros'
        elif opcion == '2':
            unidad = input("Ingrese la unidad (c para Celsius, f para Fahrenheit): ").strip().lower()
            resultado = convertir_temperatura(valor, unidad)
            unidad_destino = 'Fahrenheit' if unidad == 'c' else 'Celsius'
        elif opcion == '3':
            unidad = input("Ingrese la unidad (kg para kilogramos, lb para libras): ").strip().lower()
            resultado = convertir_masa(valor, unidad)
            unidad_destino = 'libras' if unidad == 'kg' else 'kilogramos'
    
        time.sleep(0.5)

        if resultado is not None:
            print(f"Resultado: {valor} {unidad} = {resultado:.2f} {unidad_destino}")
        else:
            print("Unidad no válida. Intente de nuevo.")

        time.sleep(0.5)
                
        repetir = input("¿Desea realizar otra conversión? (s/n): ").strip().lower()
        if repetir != 's':
            break
    except ValueError:
        print("Por favor, ingrese un número válido.")
